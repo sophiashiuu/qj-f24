{
 "cells": [
  {
   "cell_type": "code",
   "execution_count": null,
   "metadata": {},
   "outputs": [],
   "source": [
    "import yfinance as yf\n",
    "import pandas as pd\n",
    "import numpy as np\n",
    "import matplotlib.pyplot as plt"
   ]
  },
  {
   "cell_type": "markdown",
   "metadata": {},
   "source": [
    "## Algo Trading - Backtesting\n",
    "This notebook will be an introduction on how to research an algorthmic trading system.\n",
    "\n",
    "Let's start by seeing how we can use yfinance to fetch equity data. Let's fetch the past twenty years of daily SPY pricing information (daily timeframe). If interested, you can change 'SPY' to some other ticker (AAPL, QQQ, etc.)."
   ]
  },
  {
   "cell_type": "code",
   "execution_count": null,
   "metadata": {},
   "outputs": [],
   "source": [
    "# fetch past 20 years of daily data for SPY\n",
    "spy_df = yf.download('SPY', period='20y', interval='1d')\n",
    "spy_df"
   ]
  },
  {
   "cell_type": "markdown",
   "metadata": {},
   "source": [
    "We can see the outputted contents contain the Date as an index, Open, High, Low, Close, Adj Close, and Volume for each day. For this notebook's purposes, the Adj Close will be ignored. The next cell checks to see if there are any missing/nan values. There should not be. After, we can plot the close to see what it should look like."
   ]
  },
  {
   "cell_type": "code",
   "execution_count": null,
   "metadata": {},
   "outputs": [],
   "source": [
    "# check to see if nan values exist\n",
    "spy_df.isna().sum()"
   ]
  },
  {
   "cell_type": "code",
   "execution_count": null,
   "metadata": {},
   "outputs": [],
   "source": [
    "# plot the closing price.\n",
    "spy_df['Close'].plot(figsize=(10, 7))"
   ]
  },
  {
   "cell_type": "code",
   "execution_count": null,
   "metadata": {},
   "outputs": [],
   "source": [
    "# notice how we can just use .plot(). This is because the yfinance function we used returns a pandas df:\n",
    "type(spy_df)"
   ]
  },
  {
   "cell_type": "code",
   "execution_count": null,
   "metadata": {},
   "outputs": [],
   "source": [
    "# let's add a new column for the daily returns (close to close pct change)\n",
    "spy_df['daily_return'] = spy_df['Close'].pct_change()\n",
    "\n",
    "# now output a histogram of the daily returns.\n",
    "spy_df['daily_return'].hist(bins=100, figsize=(10, 7))\n",
    "\n"
   ]
  },
  {
   "cell_type": "markdown",
   "metadata": {},
   "source": [
    "Notice anything familiar with this distribution? First lecture distributions \n",
    "\n",
    "Next we will implement a couple \"baseline strategies\", something to compare our algo trading system to. We will look at total return as well as the Sharpe Ratio. The Sharpe Ratio represents risk adjusted return. Generally, a Sharpe Ratio above 1 is considered good. Sometimes the Sharpe Ratio is calculated with the risk free rate (likely US Treasury Bonds). Another helpful matric is the Sortino Ratio. Similar to the Sharpe Ratio, but it only takes into account the variation in negative returns.\n",
    "\n",
    "Something to always consider in trading is fees and other costs. Nowadays for something like SPY, the spread is almost always very small, maybe a penny or so. Many modern brokers provide no fee or zero commission trading. Another thing to consider is taxes. If the trading is done in a retirement account, it probably won't matter. However, issues with long term and short term capital gains tax may come into play. The additional gains made from a strategy that gets in and out of an equity on a daily basis may be offset by the higher short term capital gains whereas a buy and hold might only face long term capital gains tax when sold. "
   ]
  },
  {
   "cell_type": "code",
   "execution_count": null,
   "metadata": {},
   "outputs": [],
   "source": [
    "# for the first baseline mode, it will be a simple buy and hold strategy.\n",
    "\n",
    "# Assuming risk-free rate is 0\n",
    "risk_free_rate = 0\n",
    "\n",
    "# Calculate daily returns if not already calculated\n",
    "spy_df['daily_return'] = spy_df['Close'].pct_change()\n",
    "\n",
    "# Calculate cumulative return\n",
    "buy_and_hold_ret = (spy_df['daily_return'] + 1).prod()\n",
    "\n",
    "# Calculate the annualized return\n",
    "annualized_return = ((1 + spy_df['daily_return'].mean()) ** 252) - 1\n",
    "\n",
    "# Calculate the annualized volatility\n",
    "annualized_volatility = spy_df['daily_return'].std() * np.sqrt(252)\n",
    "\n",
    "# Calculate the annual Sharpe Ratio\n",
    "sharpe_ratio = (annualized_return - risk_free_rate) / annualized_volatility\n",
    "\n",
    "# print results:\n",
    "print(\"BASELINE 1: BUY AND HOLD\")\n",
    "print(f'Buy and hold return: {buy_and_hold_ret}')\n",
    "print(f'Annualized return: {annualized_return}')\n",
    "print(f'Sharpe ratio: {sharpe_ratio}')\n",
    "print(f'Annualized volatility: {annualized_volatility}\\n\\n')\n",
    "\n",
    "# for the second baseline model, we will buy the close and sell the open of the next day. \n",
    "# This strategy used to work pretty well a few decades ago, but doesn't work as well anymore.\n",
    "\n",
    "# Calculate the overnight return\n",
    "spy_df['overnight_return'] = (spy_df['Open'] - spy_df['Close'].shift(1)) / spy_df['Close'].shift(1)\n",
    "total_return = (spy_df['overnight_return'] + 1).cumprod()\n",
    "# annualize return and volatility to calculate sharpe ratio\n",
    "annualized_return = ((1 + spy_df['overnight_return'].mean()) ** 252) - 1\n",
    "annualized_volatility = spy_df['overnight_return'].std() * np.sqrt(252)\n",
    "sharpe_ratio = (annualized_return - risk_free_rate) / annualized_volatility\n",
    "\n",
    "# print results:\n",
    "print(\"BASELINE 2: OVERNIGHT RETURN\")\n",
    "print(f'Total return: {total_return[-1]}')\n",
    "print(f'Annualized return: {annualized_return}')\n",
    "print(f'Sharpe ratio: {sharpe_ratio}')\n",
    "print(f'Annualized volatility: {annualized_volatility}')"
   ]
  },
  {
   "cell_type": "code",
   "execution_count": null,
   "metadata": {},
   "outputs": [],
   "source": [
    "# We can plot the cumulative return of the overnight strategy vs the buy and hold strategy.\n",
    "total_return = (spy_df['daily_return'] + 1).cumprod()\n",
    "total_return2 = (spy_df['overnight_return'] + 1).cumprod()\n",
    "# plot the results\n",
    "total_return.plot(figsize=(12, 8), label='Daily Returns')\n",
    "total_return2.plot(label='Overnight Returns')\n",
    "plt.legend()\n",
    "plt.title('Cumulative Returns')\n",
    "plt.show()"
   ]
  },
  {
   "cell_type": "markdown",
   "metadata": {},
   "source": [
    "### Custom Strategy\n",
    "Before we get in further, we must address a crucial part of backtesting: splitting the data so we have a set we are not optimizing over to generate unrealistic results. This is a common and necessary data science practice. Another important thing to note is that in general, backtesting is not a research tool, but a validation tool."
   ]
  },
  {
   "cell_type": "code",
   "execution_count": null,
   "metadata": {},
   "outputs": [],
   "source": [
    "DATA_SPLIT = 0.65\n",
    "spy_df_train = spy_df.iloc[:int(len(spy_df) * DATA_SPLIT)]\n",
    "spy_df_test = spy_df.iloc[int(len(spy_df) * DATA_SPLIT):]"
   ]
  },
  {
   "cell_type": "markdown",
   "metadata": {},
   "source": [
    "Now let's consider the \"golden cross\" strategy. The idea is to buy when a short term moving average crosses above a long term moving average (signalling a change in trend) and to sell when it crosses below."
   ]
  },
  {
   "cell_type": "code",
   "execution_count": null,
   "metadata": {},
   "outputs": [],
   "source": [
    "# Let's setup a few parameters that can be played around with. \n",
    "\n",
    "slow_window = 50\n",
    "fast_window = 9\n",
    "\n",
    "# Calculate the fast and slow moving averages\n",
    "spy_df_train['fast_mavg'] = spy_df_train['Close'].rolling(window=fast_window, min_periods=fast_window, center=False).mean()\n",
    "spy_df_train['slow_mavg'] = spy_df_train['Close'].rolling(window=slow_window, min_periods=slow_window, center=False).mean()\n",
    "\n",
    "# Calculate crossover signal (fast greater than slow but not on previous bar)\n",
    "spy_df_train['crossover_long'] = (spy_df_train['fast_mavg'] > spy_df_train['slow_mavg']) & (\n",
    "    spy_df_train['fast_mavg'].shift(1) <= spy_df_train['slow_mavg'].shift(1))\n",
    "\n",
    "# output how many times this happened\n",
    "print(f\"Number of crossovers: {spy_df_train['crossover_long'].sum()}\")\n",
    "\n",
    "# calculate crossunders\n",
    "spy_df_train['crossover_short'] = (spy_df_train['fast_mavg'] < spy_df_train['slow_mavg']) & (\n",
    "    spy_df_train['fast_mavg'].shift(1) >= spy_df_train['slow_mavg'].shift(1))\n",
    "\n",
    "# output how many times this happened\n",
    "print(f\"Number of crossunders: {spy_df_train['crossover_short'].sum()}\")\n",
    "\n",
    "# create a chart of the close price, fast and slow moving averages, and the buy/sell signals\n",
    "spy_df_train[['Close', 'fast_mavg', 'slow_mavg']].plot(figsize=(10, 7))\n",
    "# plot the buy signals\n",
    "plt.plot(spy_df_train.loc[spy_df_train.crossover_long].index,\n",
    "         spy_df_train.fast_mavg[spy_df_train.crossover_long],\n",
    "         '^', markersize=10, color='g')\n",
    "# plot the sell signals\n",
    "plt.plot(spy_df_train.loc[spy_df_train.crossover_short].index,\n",
    "         spy_df_train.fast_mavg[spy_df_train.crossover_short],\n",
    "         'v', markersize=10, color='r')\n",
    "plt.show()"
   ]
  },
  {
   "cell_type": "markdown",
   "metadata": {},
   "source": [
    "Play around with the slow and fast windows. Sometimes generating more signals result in lower quality ones. Also note we don't have too much data here, so not many signals may be generated."
   ]
  },
  {
   "cell_type": "code",
   "execution_count": null,
   "metadata": {},
   "outputs": [],
   "source": [
    "# calculate returns information\n",
    "\n",
    "# For now we will consider opening a long position on crossovers \n",
    "# and selling long positions on crossunders\n",
    "# (meaning only longing, no shorting)\n",
    "\n",
    "returns = []\n",
    "current_entry_price = 0\n",
    "# iterate over the dataframe rows and calculate returns\n",
    "for index, row in spy_df_train.iterrows():\n",
    "    if row['crossover_long']:\n",
    "        current_entry_price = row['Close']\n",
    "    elif row['crossover_short'] and current_entry_price != 0:\n",
    "        returns.append((row['Close'] - current_entry_price) / current_entry_price)\n",
    "        current_entry_price = 0\n",
    "\n",
    "# calculate the average returns\n",
    "average_returns = np.mean(returns)\n",
    "# calculate the standard deviation of returns\n",
    "std_returns = np.std(returns)\n",
    "\n",
    "# calculate annualized return \n",
    "\n",
    "# print results\n",
    "print(f\"Cumulative returns: {np.prod([1+i for i in returns]) - 1}\")\n",
    "print(f\"Number of profitable trades: {len([i for i in returns if i > 0])}\")\n",
    "print(f\"Number of unprofitable trades: {len([i for i in returns if i < 0])}\")\n",
    "print(f\"Number of trades: {len(returns)}\")\n",
    "print(f\"Average return: {average_returns}\")\n",
    "print(f\"Std return: {std_returns}\")\n"
   ]
  },
  {
   "cell_type": "markdown",
   "metadata": {},
   "source": [
    "## Strategy Optimization\n",
    "Now that we have a rough baseline for how this strategy works, let's do a grid search to see if we can find the best values for the windows and then check our hidden set to see if it holds."
   ]
  },
  {
   "cell_type": "code",
   "execution_count": null,
   "metadata": {},
   "outputs": [],
   "source": [
    "def trial(df, long_window, short_window):\n",
    "    '''given a df, long window length and short window length, return the cumulative returns'''\n",
    "    # Calculate the fast and slow moving averages\n",
    "    df['fast_mavg'] = df['Close'].rolling(window=short_window, min_periods=short_window, center=False).mean()\n",
    "    df['slow_mavg'] = df['Close'].rolling(window=long_window, min_periods=long_window, center=False).mean()\n",
    "\n",
    "    # Calculate crossover signal (fast greater than slow but not on previous bar)\n",
    "    df['crossover_long'] = (df['fast_mavg'] > df['slow_mavg']) & (\n",
    "        df['fast_mavg'].shift(1) <= df['slow_mavg'].shift(1))\n",
    "    \n",
    "    # calculate crossunders\n",
    "    df['crossover_short'] = (df['fast_mavg'] < df['slow_mavg']) & (\n",
    "        df['fast_mavg'].shift(1) >= df['slow_mavg'].shift(1))\n",
    "    \n",
    "    returns = []\n",
    "    current_entry_price = 0\n",
    "    # iterate over the dataframe rows and calculate returns\n",
    "    for index, row in df.iterrows():\n",
    "        if row['crossover_long']:\n",
    "            current_entry_price = row['Close']\n",
    "        elif row['crossover_short'] and current_entry_price != 0:\n",
    "            returns.append((row['Close'] - current_entry_price) / current_entry_price)\n",
    "            current_entry_price = 0\n",
    "\n",
    "    # return cumulative returns\n",
    "    return np.prod([1+i for i in returns]) - 1\n",
    "\n",
    "for long_window in [20, 50, 100, 200, 500]:\n",
    "    for short_window in [10, 20, 50]:\n",
    "        print(f\"long_window: {long_window}, short_window: {short_window}, returns: {trial(spy_df_train, long_window, short_window)}\")\n"
   ]
  },
  {
   "cell_type": "code",
   "execution_count": null,
   "metadata": {},
   "outputs": [],
   "source": [
    "# confirm results with test set to see if the performance is still good\n",
    "\n",
    "long_window = 200\n",
    "short_window = 10\n",
    "spy_df_test['fast_mavg'] = spy_df_test['Close'].rolling(window=short_window, min_periods=short_window, center=False).mean()\n",
    "spy_df_test['slow_mavg'] = spy_df_test['Close'].rolling(window=long_window, min_periods=long_window, center=False).mean()\n",
    "\n",
    "# Calculate crossover signal (fast greater than slow but not on previous bar)\n",
    "spy_df_test['crossover_long'] = (spy_df_test['fast_mavg'] > spy_df_test['slow_mavg']) & (\n",
    "    spy_df_test['fast_mavg'].shift(1) <= spy_df_test['slow_mavg'].shift(1))\n",
    "\n",
    "# calculate crossunders\n",
    "spy_df_test['crossover_short'] = (spy_df_test['fast_mavg'] < spy_df_test['slow_mavg']) & (\n",
    "    spy_df_test['fast_mavg'].shift(1) >= spy_df_test['slow_mavg'].shift(1))\n",
    "\n",
    "# add a new column for return that's 0 by default, and the relevant return if a buy or sell signal is present\n",
    "current_entry_price = 0\n",
    "spy_df_test['return'] = 0\n",
    "\n",
    "# iterate over the dataframe rows and calculate returns\n",
    "for index, row in spy_df_test.iterrows():\n",
    "    if row['crossover_long']:\n",
    "        current_entry_price = row['Close']\n",
    "    elif row['crossover_short'] and current_entry_price != 0:\n",
    "        spy_df_test.loc[index, 'return'] = (row['Close'] - current_entry_price) / current_entry_price\n",
    "        current_entry_price = 0\n",
    "\n",
    "# calculate cumulative returns\n",
    "cumulative_return = (spy_df_test['return'] + 1).cumprod()\n",
    "print(f\"Cumulative return: {cumulative_return[-1]}\")\n",
    "\n",
    "# plot cumulative returns for test set against buy and hold strategy for test set\n",
    "total_return = (spy_df_test['daily_return'] + 1).cumprod()\n",
    "cumulative_return.plot(figsize=(12, 8), label='Crossover strategy')\n",
    "total_return.plot(label='Buy and hold strategy')\n",
    "plt.legend()\n",
    "plt.title('Cumulative Returns')\n",
    "plt.show()\n"
   ]
  },
  {
   "cell_type": "markdown",
   "metadata": {},
   "source": [
    "## Your Custom Strategy\n",
    "Up until this point, you haven't been able to do much on your own with this file. Now you have the tools to implement your own strategy. Consider researching some technical analysis indicators (eg: MACD, RSI, Bollinger Bands, EMA, ADX) online to try and add to your strategy. Provided below is a barebones function similar to the above strategy. Feel free to completely change the structure. You could have it buy one day and sell in 10 days, close position if market moves too fast down, etc.."
   ]
  },
  {
   "cell_type": "code",
   "execution_count": null,
   "metadata": {},
   "outputs": [],
   "source": [
    "def trial(df):\n",
    "    '''given a df...'''\n",
    "    \n",
    "    # create indicators\n",
    "    # ...\n",
    "\n",
    "    # create entry signal\n",
    "    # ...\n",
    "    \n",
    "    # create exit signal\n",
    "    # ...\n",
    "    \n",
    "    # calculate returns\n",
    "    # ...\n",
    "\n",
    "    # return cumulative return, plot, etc..   \n"
   ]
  }
 ],
 "metadata": {
  "kernelspec": {
   "display_name": "Python 3",
   "language": "python",
   "name": "python3"
  },
  "language_info": {
   "codemirror_mode": {
    "name": "ipython",
    "version": 3
   },
   "file_extension": ".py",
   "mimetype": "text/x-python",
   "name": "python",
   "nbconvert_exporter": "python",
   "pygments_lexer": "ipython3",
   "version": "3.9.13"
  }
 },
 "nbformat": 4,
 "nbformat_minor": 2
}
